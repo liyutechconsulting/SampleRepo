{
  "cells": [
    {
      "cell_type": "code",
      "source": [
        "! az login --use-device-code\n",
        "\n",
        "import pandas as pd\n",
        "import json\n",
        "import os\n",
        "import shutil\n",
        "import math\n",
        "import sys\n",
        "sys.path.append(\"..\") # Adds higher directory to python modules path.\n",
        "sys.path.append(\"./Codebase/\")\n",
        "from ModelUtils import aml_helper, common\n",
        "import prepare_data\n",
        "os.environ[\"MODEL_NAME\"]=\"smart-wv-spc\"\n",
        "entity_types = common.get_supported_entities()\n",
        "\n",
        "start_date = '2021-08-05'\n",
        "end_date = '2021-09-04'\n",
        "name = 'train'\n",
        "ocr_vendor='AWSNT'\n",
        "labeled_data_file = f\"../tmp/LabeledData/{name}_labeled_data_{start_date}_{end_date}.json\" \n",
        "data_description=f'{start_date} - {end_date}'\n",
        "\n",
        "#update the two parameters below based on your needs\n",
        "data_used_for='Training'\n",
        "\n",
        "prepare_data.generate_and_upload_training_data(entity_types, labeled_data_file, data_description, data_used_for)"
      ],
      "outputs": [
        {
          "output_type": "stream",
          "name": "stdout",
          "text": "\u001b[93mTo sign in, use a web browser to open the page https://microsoft.com/deviceloginus and enter the code ERG8BFTF9 to authenticate.\u001b[0m\n[\n  {\n    \"cloudName\": \"AzureUSGovernment\",\n    \"homeTenantId\": \"b867b9e5-3f45-4e23-8d83-ba3ef870b980\",\n    \"id\": \"eafbfb40-9783-4030-9903-845216f3dae2\",\n    \"isDefault\": true,\n    \"managedByTenants\": [],\n    \"name\": \"SMART DevTest\",\n    \"state\": \"Enabled\",\n    \"tenantId\": \"b867b9e5-3f45-4e23-8d83-ba3ef870b980\",\n    \"user\": {\n      \"name\": \"ctr.egrahovac@govsmi.onmicrosoft.com\",\n      \"type\": \"user\"\n    }\n  },\n  {\n    \"cloudName\": \"AzureUSGovernment\",\n    \"homeTenantId\": \"b867b9e5-3f45-4e23-8d83-ba3ef870b980\",\n    \"id\": \"1183bfd1-16db-4ec7-bb3b-2a5323d99818\",\n    \"isDefault\": false,\n    \"managedByTenants\": [],\n    \"name\": \"SMART DevTest – CSP\",\n    \"state\": \"Enabled\",\n    \"tenantId\": \"b867b9e5-3f45-4e23-8d83-ba3ef870b980\",\n    \"user\": {\n      \"name\": \"ctr.egrahovac@govsmi.onmicrosoft.com\",\n      \"type\": \"user\"\n    }\n  }\n]\nLoaded ../tmp/LabeledData/train_labeled_data_2021-08-05_2021-09-04.json successfully.\nRemoving ./tmp/Generated Data/ folder\nLoading ../tmp/LabeledData/train_labeled_data_2021-08-05_2021-09-04.json into memory\n"
        }
      ],
      "execution_count": 1,
      "metadata": {
        "jupyter": {
          "source_hidden": false,
          "outputs_hidden": false
        },
        "nteract": {
          "transient": {
            "deleting": false
          }
        },
        "gather": {
          "logged": 1667231440028
        }
      },
      "id": "c5fd8c11"
    },
    {
      "cell_type": "code",
      "source": [
        "#!az login --use-device-code"
      ],
      "outputs": [],
      "execution_count": 2,
      "metadata": {
        "jupyter": {
          "source_hidden": false,
          "outputs_hidden": false
        },
        "nteract": {
          "transient": {
            "deleting": false
          }
        },
        "gather": {
          "logged": 1666705644228
        }
      },
      "id": "b85db58f-5493-411a-9652-0b25b6c89c1f"
    },
    {
      "cell_type": "code",
      "source": [],
      "outputs": [],
      "execution_count": null,
      "metadata": {
        "jupyter": {
          "source_hidden": false,
          "outputs_hidden": false
        },
        "nteract": {
          "transient": {
            "deleting": false
          }
        }
      },
      "id": "ff24fe01-7a10-49ac-b424-0c4785df99b1"
    }
  ],
  "metadata": {
    "kernelspec": {
      "name": "python3",
      "language": "python",
      "display_name": "Python 3 (ipykernel)"
    },
    "language_info": {
      "name": "python",
      "version": "3.8.5",
      "mimetype": "text/x-python",
      "codemirror_mode": {
        "name": "ipython",
        "version": 3
      },
      "pygments_lexer": "ipython3",
      "nbconvert_exporter": "python",
      "file_extension": ".py"
    },
    "kernel_info": {
      "name": "python3"
    },
    "nteract": {
      "version": "nteract-front-end@1.0.0"
    },
    "microsoft": {
      "host": {
        "AzureML": {
          "notebookHasBeenCompleted": true
        }
      }
    }
  },
  "nbformat": 4,
  "nbformat_minor": 5
}
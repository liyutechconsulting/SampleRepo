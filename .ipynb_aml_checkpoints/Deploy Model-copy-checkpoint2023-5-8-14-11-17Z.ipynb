{
  "cells": [
    {
      "cell_type": "markdown",
      "source": [
        "# 3 - Deploying the Model\n",
        "\n",
        "The final step in this module will be to deploy that we created in the previous clip and make it available to call via either the SDK or through a REST endpoint.  This will allow us to operationalize this model within our organization."
      ],
      "metadata": {}
    },
    {
      "cell_type": "code",
      "source": [
        "import sys\r\n",
        "sys.path.append(\"../\") # Adds higher directory to python modules path.\r\n",
        "from ModelUtils import common\r\n",
        "from utility import deploy_model"
      ],
      "outputs": [],
      "execution_count": 1,
      "metadata": {
        "jupyter": {
          "source_hidden": false,
          "outputs_hidden": false
        },
        "nteract": {
          "transient": {
            "deleting": false
          }
        },
        "gather": {
          "logged": 1686232782263
        }
      }
    },
    {
      "cell_type": "code",
      "source": [
        " #!az login --use-device-code"
      ],
      "outputs": [],
      "execution_count": 2,
      "metadata": {
        "jupyter": {
          "source_hidden": false,
          "outputs_hidden": false
        },
        "nteract": {
          "transient": {
            "deleting": false
          }
        },
        "gather": {
          "logged": 1686232782587
        }
      }
    },
    {
      "cell_type": "code",
      "source": [
        "# import time\r\n",
        "# time.sleep(15 * 60 * 60)"
      ],
      "outputs": [],
      "execution_count": 3,
      "metadata": {
        "jupyter": {
          "source_hidden": false,
          "outputs_hidden": false
        },
        "nteract": {
          "transient": {
            "deleting": false
          }
        },
        "gather": {
          "logged": 1686232782928
        }
      }
    },
    {
      "cell_type": "code",
      "source": [
        "clientId = common.Client.WV\r\n",
        "deploy_entity_models=False\r\n",
        "deploy_pt=True\r\n",
        "trained_model_name=common.get_model_name(clientId, common.EntityExtractionModel.SPC)\r\n",
        "os.environ[\"MODEL_NAME\"]=trained_model_name\r\n",
        "entity_types = common.get_supported_entities()\r\n",
        "\r\n",
        "models = []\r\n",
        "if deploy_entity_models:\r\n",
        "    for entity_type in entity_types:\r\n",
        "        models.append({\"entity_type\":entity_type, \"version\": None})\r\n",
        "if deploy_pt:\r\n",
        "    models.append({\"entity_type\":common.EntityName.DEF, \"model\": common.EntityExtractionModel.SPCENCWBLG,  \"pretrained\": True, \"version\":None})\r\n",
        "\r\n",
        "service,ws = deploy_model(models, clientId, common.SMIEnvironment.UAT, deploy_entity_models=deploy_entity_models, deploy_pt=deploy_pt)"
      ],
      "outputs": [
        {
          "output_type": "stream",
          "name": "stdout",
          "text": "{'name': 'smart-spcencwblg', 'entity_type': <EntityName.DEF: 'DEF'>, 'pretrained': True, 'version': 2, 'model': <EntityExtractionModel.SPCENCWBLG: 'SPCENCWBLG'>}\nError: /mnt/batch/tasks/shared/LS_root/mounts/clusters/fitsumcompute2/code/Users/ctr.egrahovac/automation-debit-phase/ModelSPC/tmp/smart-spcencwblg_tmp_dir : No such file or directory\nNow deploying model\nDeploying endpoint:  smart-uat-spcencwblg\nAML MODEL Model(workspace=Workspace.create(name='ML-Smart-DevTest', subscription_id='1183bfd1-16db-4ec7-bb3b-2a5323d99818', resource_group='RG-Smart-ER-USGVA-ML-Dev'), name=smart-spcencwblg, id=smart-spcencwblg:2, version=2, tags={}, properties={})\ndeployment finished\n"
        },
        {
          "output_type": "stream",
          "name": "stderr",
          "text": "Property environment_variables is deprecated. Use RunConfiguration.environment_variables to set runtime variables.\nBuilding a non-registered environment is not supported. Registering environment.\n/mnt/batch/tasks/shared/LS_root/mounts/clusters/fitsumcompute2/code/Users/ctr.egrahovac/automation-debit-phase/ModelSPC/../ModelUtils/aml_helper.py:231: FutureWarning: azureml.core.model:\nTo leverage new model deployment capabilities, AzureML recommends using CLI/SDK v2 to deploy models as online endpoint, \nplease refer to respective documentations \nhttps://docs.microsoft.com/azure/machine-learning/how-to-deploy-managed-online-endpoints /\nhttps://docs.microsoft.com/azure/machine-learning/how-to-attach-kubernetes-anywhere \nFor more information on migration, see https://aka.ms/acimoemigration \nTo disable CLI/SDK v1 deprecation warning set AZUREML_LOG_DEPRECATION_WARNING_ENABLED to 'False'\n  service = Model.deploy(workspace=ws,\n"
        }
      ],
      "execution_count": 4,
      "metadata": {
        "jupyter": {
          "source_hidden": false,
          "outputs_hidden": false
        },
        "nteract": {
          "transient": {
            "deleting": false
          }
        },
        "gather": {
          "logged": 1686232769583
        }
      }
    },
    {
      "cell_type": "markdown",
      "source": [
        "We can get the URL:"
      ],
      "metadata": {}
    },
    {
      "cell_type": "code",
      "source": [
        "print(service.scoring_uri)"
      ],
      "outputs": [],
      "execution_count": null,
      "metadata": {
        "gather": {
          "logged": 1686232769722
        }
      }
    }
  ],
  "metadata": {
    "kernelspec": {
      "name": "python38-azureml",
      "language": "python",
      "display_name": "Python 3.8 - AzureML"
    },
    "language_info": {
      "name": "python",
      "version": "3.8.10",
      "mimetype": "text/x-python",
      "codemirror_mode": {
        "name": "ipython",
        "version": 3
      },
      "pygments_lexer": "ipython3",
      "nbconvert_exporter": "python",
      "file_extension": ".py"
    },
    "kernel_info": {
      "name": "python38-azureml"
    },
    "nteract": {
      "version": "nteract-front-end@1.0.0"
    },
    "microsoft": {
      "host": {
        "AzureML": {
          "notebookHasBeenCompleted": true
        }
      },
      "ms_spell_check": {
        "ms_spell_check_language": "en"
      }
    }
  },
  "nbformat": 4,
  "nbformat_minor": 2
}
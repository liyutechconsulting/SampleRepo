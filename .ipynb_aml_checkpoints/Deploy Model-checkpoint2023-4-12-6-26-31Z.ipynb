{
  "cells": [
    {
      "cell_type": "markdown",
      "source": [
        "# 3 - Deploying the Model\n",
        "\n",
        "The final step in this module will be to deploy that we created in the previous clip and make it available to call via either the SDK or through a REST endpoint.  This will allow us to operationalize this model within our organization."
      ],
      "metadata": {}
    },
    {
      "cell_type": "code",
      "source": [
        "import sys\r\n",
        "sys.path.append(\"../\") # Adds higher directory to python modules path.\r\n",
        "from ModelUtils import common\r\n",
        "from utility import deploy_model"
      ],
      "outputs": [],
      "execution_count": 1,
      "metadata": {
        "jupyter": {
          "source_hidden": false,
          "outputs_hidden": false
        },
        "nteract": {
          "transient": {
            "deleting": false
          }
        },
        "gather": {
          "logged": 1677217368530
        }
      }
    },
    {
      "cell_type": "code",
      "source": [
        "# !az login --use-device-code"
      ],
      "outputs": [],
      "execution_count": 2,
      "metadata": {
        "jupyter": {
          "source_hidden": false,
          "outputs_hidden": false
        },
        "nteract": {
          "transient": {
            "deleting": false
          }
        },
        "gather": {
          "logged": 1677217368786
        }
      }
    },
    {
      "cell_type": "code",
      "source": [
        "# import time\r\n",
        "# time.sleep(15 * 60 * 60)"
      ],
      "outputs": [],
      "execution_count": 3,
      "metadata": {
        "jupyter": {
          "source_hidden": false,
          "outputs_hidden": false
        },
        "nteract": {
          "transient": {
            "deleting": false
          }
        },
        "gather": {
          "logged": 1677217369037
        }
      }
    },
    {
      "cell_type": "code",
      "source": [
        "clientId = common.Client.WV\r\n",
        "deploy_entity_models=True\r\n",
        "deploy_pt=Fal\r\n",
        "trained_model_name=common.get_model_name(clientId, common.EntityExtractionModel.SPC)\r\n",
        "os.environ[\"MODEL_NAME\"]=trained_model_name\r\n",
        "entity_types = common.get_supported_entities()\r\n",
        "\r\n",
        "models = []\r\n",
        "if deploy_entity_models:\r\n",
        "    for entity_type in entity_types:\r\n",
        "        models.append({\"entity_type\":entity_type, \"version\": None})\r\n",
        "if deploy_pt:\r\n",
        "    models.append({\"entity_type\":common.EntityName.DEF, \"model\": common.EntityExtractionModel.SPCENCWBLG,  \"pretrained\": True, \"version\":None})\r\n",
        "\r\n",
        "service,ws = deploy_model(models, clientId, common.SMIEnvironment.ST, deploy_entity_models=deploy_entity_models, deploy_pt=deploy_pt)"
      ],
      "outputs": [
        {
          "output_type": "stream",
          "name": "stdout",
          "text": "Error: /mnt/batch/tasks/shared/LS_root/mounts/clusters/fitsumcompute2/code/Users/ctr.egrahovac/automation-debit-phase/Spacy/tmp/smart-wv-spc_tmp_dir : No such file or directory\nNow deploying model\nDeploying endpoint:  smart-dev-wv-spc\nAML MODEL Model(workspace=Workspace.create(name='ml-smart-devtest', subscription_id='1183bfd1-16db-4ec7-bb3b-2a5323d99818', resource_group='rg-smart-er-usgva-ml-dev'), name=smart-wv-spc-qua, id=smart-wv-spc-qua:7, version=7, tags={}, properties={})\nTips: You can try get_logs(): https://aka.ms/debugimage#dockerlog or local deployment: https://aka.ms/debugimage#debug-locally to debug if deployment takes longer than 10 minutes.\nRunning\n2023-02-24 05:43:06+00:00 Creating Container Registry if not exists.\n2023-02-24 05:43:06+00:00 Registering the environment.\n2023-02-24 05:43:07+00:00 Use the existing image.\n2023-02-24 05:43:09+00:00 Creating resources in AKS.\n2023-02-24 05:43:10+00:00 Submitting deployment to compute.\n2023-02-24 05:43:10+00:00 Checking the status of deployment smart-dev-wv-spc..\n2023-02-24 05:43:59+00:00 Checking the status of inference endpoint smart-dev-wv-spc.\nSucceeded\nAKS service creation operation finished, operation \"Succeeded\"\nHealthy\n2023-02-24T05:43:29,563545987+00:00 - rsyslog/run \n2023-02-24T05:43:29,564135691+00:00 - iot-server/run \n2023-02-24T05:43:29,566779009+00:00 - nginx/run \n2023-02-24T05:43:29,568530420+00:00 - gunicorn/run \n2023-02-24T05:43:29,570345033+00:00 | gunicorn/run | \n2023-02-24T05:43:29,571946244+00:00 | gunicorn/run | ###############################################\n2023-02-24T05:43:29,573720056+00:00 | gunicorn/run | AzureML Container Runtime Information\n2023-02-24T05:43:29,575407567+00:00 | gunicorn/run | ###############################################\n2023-02-24T05:43:29,577121079+00:00 | gunicorn/run | \n2023-02-24T05:43:29,580131699+00:00 | gunicorn/run | \n2023-02-24T05:43:29,581918711+00:00 | gunicorn/run | PATH environment variable: /azureml-envs/azureml_66be914384c153f607d56501fbfcaf4c/bin:/opt/miniconda/bin:/usr/local/sbin:/usr/local/bin:/usr/sbin:/usr/bin:/sbin:/bin\n2023-02-24T05:43:29,583637823+00:00 | gunicorn/run | PYTHONPATH environment variable: \n2023-02-24T05:43:29,585194133+00:00 | gunicorn/run | \n2023-02-24T05:43:29,586702643+00:00 | gunicorn/run | Pip Dependencies (before dynamic installation)\n\nEdgeHubConnectionString and IOTEDGE_IOTHUBHOSTNAME are not set. Exiting...\n2023-02-24T05:43:29,699687207+00:00 - iot-server/finish 1 0\n2023-02-24T05:43:29,701170317+00:00 - Exit code 1 is normal. Not restarting iot-server.\nadal==1.2.7\nargcomplete==2.0.0\nattrs==22.1.0\nazure-common==1.1.28\nazure-core==1.25.0\nazure-graphrbac==0.61.1\nazure-identity==1.7.0\nazure-mgmt-authorization==2.0.0\nazure-mgmt-containerregistry==10.0.0\nazure-mgmt-core==1.3.1\nazure-mgmt-keyvault==10.0.0\nazure-mgmt-resource==21.1.0\nazure-mgmt-storage==20.0.0\nazureml-core==1.44.0\nazureml-dataprep==4.2.2\nazureml-dataprep-native==38.0.0\nazureml-dataprep-rslex==2.8.1\nazureml-dataset-runtime==1.44.0\nazureml-defaults==1.44.0\nazureml-inference-server-http==0.7.4\nbackports.tempfile==1.0\nbackports.weakref==1.0.post1\nbcrypt==3.2.2\nblis==0.7.8\ncachetools==5.2.0\ncatalogue==2.0.8\ncertifi==2022.6.15\ncffi==1.15.1\ncharset-normalizer==2.1.0\nclick==8.1.3\ncloudpickle==2.1.0\nconcise-concepts==0.5.4\nconfigparser==3.7.4\ncontextlib2==21.6.0\ncryptography==37.0.4\ncymem==2.0.6\ndistro==1.7.0\ndocker==5.0.3\ndotnetcore2==3.1.23\net-xmlfile==1.1.0\nFlask==2.1.3\nFlask-Cors==3.0.10\nfusepy==3.0.1\ngensim==4.2.0\ngoogle-api-core==2.8.2\ngoogle-auth==2.10.0\ngoogleapis-common-protos==1.56.4\ngunicorn==20.1.0\nhumanfriendly==10.0\nidna==3.3\nimportlib-metadata==4.12.0\nimportlib-resources==5.9.0\ninference-schema==1.4.1\nisodate==0.6.1\nitsdangerous==2.1.2\njeepney==0.8.0\nJinja2==3.1.2\njmespath==1.0.0\njoblib==1.0.1\njson-logging-py==0.2\njsonpickle==2.2.0\njsonschema==4.9.1\nknack==0.9.0\nlangcodes==3.3.0\nMarkupSafe==2.1.1\nmsal==1.18.0\nmsal-extensions==0.3.1\nmsrest==0.7.1\nmsrestazure==0.6.4\nmurmurhash==1.0.7\nndg-httpsclient==0.5.1\nnumpy==1.19.0\noauthlib==3.2.0\nopencensus==0.11.0\nopencensus-context==0.1.3\nopencensus-ext-azure==1.1.6\nopenpyxl==3.0.10\npackaging==21.3\npandas==0.25.3\nparamiko==2.11.0\npathspec==0.9.0\npathy==0.6.2\npkginfo==1.8.3\npkgutil_resolve_name==1.3.10\nportalocker==2.5.1\npreshed==3.0.6\nprotobuf==4.21.4\npsutil==5.9.1\npyarrow==6.0.0\npyasn1==0.4.8\npyasn1-modules==0.2.8\npycparser==2.21\npydantic==1.9.1\nPygments==2.12.0\nPyJWT==2.4.0\nPyNaCl==1.5.0\npyOpenSSL==22.0.0\npyparsing==3.0.9\npyrsistent==0.18.1\nPySocks==1.7.1\npython-dateutil==2.8.2\npytz==2022.1\nPyYAML==6.0\nrequests==2.28.1\nrequests-oauthlib==1.3.1\nrsa==4.9\nscipy==1.9.0\nSecretStorage==3.3.2\nsix==1.16.0\nsmart-open==5.2.1\nspacy==3.4.0\nspacy-legacy==3.0.9\nspacy-loggers==1.0.3\nsrsly==2.4.4\ntabulate==0.8.10\nthinc==8.1.0\ntqdm==4.64.0\ntyper==0.4.2\ntyping_extensions==4.3.0\nurllib3==1.26.9\nwasabi==0.10.1\nwebsocket-client==1.3.3\nWerkzeug==2.2.1\nwrapt==1.12.1\nxlrd==2.0.1\nzipp==3.8.1\n\n2023-02-24T05:43:30,291405052+00:00 | gunicorn/run | \n2023-02-24T05:43:30,293070265+00:00 | gunicorn/run | ###############################################\n2023-02-24T05:43:30,294628078+00:00 | gunicorn/run | AzureML Inference Server\n2023-02-24T05:43:30,296187490+00:00 | gunicorn/run | ###############################################\n2023-02-24T05:43:30,297701802+00:00 | gunicorn/run | \n2023-02-24T05:43:31,292194027+00:00 | gunicorn/run | Starting AzureML Inference Server HTTP.\n\nAzure ML Inferencing HTTP server v0.7.4\n\n\nServer Settings\n---------------\nEntry Script Name: main.py\nModel Directory: /var/azureml-app/azureml-models\nWorker Count: 1\nWorker Timeout (seconds): 300\nServer Port: 31311\nApplication Insights Enabled: false\nApplication Insights Key: AppInsights key provided\nInferencing HTTP server version: azmlinfsrv/0.7.4\nCORS for the specified origins: None\n\n\nServer Routes\n---------------\nLiveness Probe: GET   127.0.0.1:31311/\nScore:          POST  127.0.0.1:31311/score\n\nStarting gunicorn 20.1.0\nListening at: http://0.0.0.0:31311 (12)\nUsing worker: sync\nBooting worker with pid: 68\nInitializing logger\n2023-02-24 05:43:32,061 | root | INFO | Starting up app insights client\nlogging socket was found. logging is available.\nlogging socket was found. logging is available.\n2023-02-24 05:43:32,062 | root | INFO | Starting up app insight hooks\n2023-02-24 05:43:33,660 | root | INFO | Found driver script at /var/azureml-app/main.py and the score script at /structure/azureml-app/Codebase/score.py\n2023-02-24 05:43:33,660 | root | INFO | run() is not decorated. Server will invoke it with the input in JSON string.\n2023-02-24 05:43:33,660 | root | INFO | Invoking user's init function\n00000000-0000-0000-0000-000000000000,Model config: [{'name': 'smart-wv-spc-amt', 'entity_type': 'AMT', 'pretrained': False, 'version': 8, 'model': 'smart-wv-spc'}, {'name': 'smart-wv-spc-ssn', 'entity_type': 'SSN', 'pretrained': False, 'version': 5, 'model': 'smart-wv-spc'}, {'name': 'smart-wv-spc-fn', 'entity_type': 'FN', 'pretrained': False, 'version': 8, 'model': 'smart-wv-spc'}, {'name': 'smart-wv-spc-mn', 'entity_type': 'MN', 'pretrained': False, 'version': 8, 'model': 'smart-wv-spc'}, {'name': 'smart-wv-spc-ln', 'entity_type': 'LN', 'pretrained': False, 'version': 8, 'model': 'smart-wv-spc'}, {'name': 'smart-wv-spc-sec', 'entity_type': 'SEC', 'pretrained': False, 'version': 8, 'model': 'smart-wv-spc'}, {'name': 'smart-wv-spc-qua', 'entity_type': 'QUA', 'pretrained': False, 'version': 7, 'model': 'smart-wv-spc'}]\n00000000-0000-0000-0000-000000000000,model_root_path - ['smart-wv-spc-fn', 'smart-wv-spc-ln', 'smart-wv-spc-sec', 'smart-wv-spc-amt', 'smart-wv-spc-ssn', 'smart-wv-spc-qua', 'smart-wv-spc-mn']\n00000000-0000-0000-0000-000000000000,model_dir_path - ['text_ner_model.zip']\n00000000-0000-0000-0000-000000000000,Loading model dir model_bin_path - ['tok2vec', 'tokenizer', 'tagger', 'attribute_ruler', 'meta.json', 'senter', 'vocab', 'lemmatizer', 'parser', 'config.cfg', 'ner']\n00000000-0000-0000-0000-000000000000,Loaded smart-wv-spc-amt successfully\n00000000-0000-0000-0000-000000000000,model_dir_path - ['text_ner_model.zip']\n00000000-0000-0000-0000-000000000000,Loading model dir model_bin_path - ['tok2vec', 'tokenizer', 'tagger', 'attribute_ruler', 'meta.json', 'senter', 'vocab', 'lemmatizer', 'parser', 'config.cfg', 'ner']\n00000000-0000-0000-0000-000000000000,Loaded smart-wv-spc-ssn successfully\n00000000-0000-0000-0000-000000000000,model_dir_path - ['text_ner_model.zip']\n00000000-0000-0000-0000-000000000000,Loading model dir model_bin_path - ['tok2vec', 'tokenizer', 'tagger', 'attribute_ruler', 'meta.json', 'senter', 'vocab', 'lemmatizer', 'parser', 'config.cfg', 'ner']\n00000000-0000-0000-0000-000000000000,Loaded smart-wv-spc-fn successfully\n00000000-0000-0000-0000-000000000000,model_dir_path - ['text_ner_model.zip']\n00000000-0000-0000-0000-000000000000,Loading model dir model_bin_path - ['tok2vec', 'tokenizer', 'tagger', 'attribute_ruler', 'meta.json', 'senter', 'vocab', 'lemmatizer', 'parser', 'config.cfg', 'ner']\n00000000-0000-0000-0000-000000000000,Loaded smart-wv-spc-mn successfully\n00000000-0000-0000-0000-000000000000,model_dir_path - ['text_ner_model.zip']\n00000000-0000-0000-0000-000000000000,Loading model dir model_bin_path - ['tok2vec', 'tokenizer', 'tagger', 'attribute_ruler', 'meta.json', 'senter', 'vocab', 'lemmatizer', 'parser', 'config.cfg', 'ner']\n00000000-0000-0000-0000-000000000000,Loaded smart-wv-spc-ln successfully\n00000000-0000-0000-0000-000000000000,model_dir_path - ['text_ner_model.zip']\n00000000-0000-0000-0000-000000000000,Loading model dir model_bin_path - ['tok2vec', 'tokenizer', 'tagger', 'attribute_ruler', 'meta.json', 'senter', 'vocab', 'lemmatizer', 'parser', 'config.cfg', 'ner']\n00000000-0000-0000-0000-000000000000,Loaded smart-wv-spc-sec successfully\n00000000-0000-0000-0000-000000000000,model_dir_path - ['text_ner_model.zip']\n00000000-0000-0000-0000-000000000000,Loading model dir model_bin_path - ['tok2vec', 'tokenizer', 'tagger', 'attribute_ruler', 'meta.json', 'senter', 'vocab', 'lemmatizer', 'parser', 'config.cfg', 'ner']\n00000000-0000-0000-0000-000000000000,Loaded smart-wv-spc-qua successfully\n2023-02-24 05:43:47,451 | root | INFO | Users's init has completed successfully\n2023-02-24 05:43:47,452 | root | INFO | Swaggers are prepared for the following versions: [2, 3].\n2023-02-24 05:43:47,452 | root | INFO | Scoring timeout is found from os.environ: 90000 ms\n2023-02-24 05:43:47,452 | root | INFO | AML_FLASK_ONE_COMPATIBILITY is set. Patched Flask to ensure compatibility with Flask 1.\n2023-02-24 05:43:59,768 | root | INFO | 200\n127.0.0.1 - - [24/Feb/2023:05:43:59 +0000] \"GET /swagger.json HTTP/1.0\" 200 2359 \"-\" \"hackney/1.18.1\"\n2023-02-24 05:44:04,103 | root | INFO | 200\n127.0.0.1 - - [24/Feb/2023:05:44:04 +0000] \"GET /swagger.json HTTP/1.0\" 200 2359 \"-\" \"hackney/1.18.1\"\n\ndeployment finished\n{'name': 'smart-spcencwblg', 'entity_type': <EntityName.DEF: 'DEF'>, 'pretrained': True, 'version': 2, 'model': <EntityExtractionModel.SPCENCWBLG: 'SPCENCWBLG'>}\nError: /mnt/batch/tasks/shared/LS_root/mounts/clusters/fitsumcompute2/code/Users/ctr.egrahovac/automation-debit-phase/Spacy/tmp/smart-spcencwblg_tmp_dir : No such file or directory\n"
        },
        {
          "output_type": "stream",
          "name": "stderr",
          "text": "Property environment_variables is deprecated. Use RunConfiguration.environment_variables to set runtime variables.\n/mnt/batch/tasks/shared/LS_root/mounts/clusters/fitsumcompute2/code/Users/ctr.egrahovac/automation-debit-phase/Spacy/../ModelUtils/aml_helper.py:206: FutureWarning: azureml.core.model:\nTo leverage new model deployment capabilities, AzureML recommends using CLI/SDK v2 to deploy models as online endpoint, \nplease refer to respective documentations \nhttps://docs.microsoft.com/azure/machine-learning/how-to-deploy-managed-online-endpoints /\nhttps://docs.microsoft.com/azure/machine-learning/how-to-attach-kubernetes-anywhere \nFor more information on migration, see https://aka.ms/acimoemigration. \nTo disable CLI/SDK v1 deprecation warning set AZUREML_LOG_DEPRECATION_WARNING_ENABLED to 'False'\n  service = Model.deploy(workspace=ws,\nProperty environment_variables is deprecated. Use RunConfiguration.environment_variables to set runtime variables.\n/mnt/batch/tasks/shared/LS_root/mounts/clusters/fitsumcompute2/code/Users/ctr.egrahovac/automation-debit-phase/Spacy/../ModelUtils/aml_helper.py:206: FutureWarning: azureml.core.model:\nTo leverage new model deployment capabilities, AzureML recommends using CLI/SDK v2 to deploy models as online endpoint, \nplease refer to respective documentations \nhttps://docs.microsoft.com/azure/machine-learning/how-to-deploy-managed-online-endpoints /\nhttps://docs.microsoft.com/azure/machine-learning/how-to-attach-kubernetes-anywhere \nFor more information on migration, see https://aka.ms/acimoemigration. \nTo disable CLI/SDK v1 deprecation warning set AZUREML_LOG_DEPRECATION_WARNING_ENABLED to 'False'\n  service = Model.deploy(workspace=ws,\n"
        }
      ],
      "execution_count": 4,
      "metadata": {
        "jupyter": {
          "source_hidden": false,
          "outputs_hidden": false
        },
        "nteract": {
          "transient": {
            "deleting": false
          }
        },
        "gather": {
          "logged": 1675485997472
        }
      }
    },
    {
      "cell_type": "markdown",
      "source": [
        "We can get the URL:"
      ],
      "metadata": {}
    },
    {
      "cell_type": "code",
      "source": [
        "print(service.scoring_uri)"
      ],
      "outputs": [],
      "execution_count": null,
      "metadata": {
        "gather": {
          "logged": 1675485997597
        }
      }
    }
  ],
  "metadata": {
    "kernelspec": {
      "name": "python38-azureml",
      "language": "python",
      "display_name": "Python 3.8 - AzureML"
    },
    "language_info": {
      "name": "python",
      "version": "3.8.10",
      "mimetype": "text/x-python",
      "codemirror_mode": {
        "name": "ipython",
        "version": 3
      },
      "pygments_lexer": "ipython3",
      "nbconvert_exporter": "python",
      "file_extension": ".py"
    },
    "kernel_info": {
      "name": "python38-azureml"
    },
    "nteract": {
      "version": "nteract-front-end@1.0.0"
    },
    "microsoft": {
      "host": {
        "AzureML": {
          "notebookHasBeenCompleted": true
        }
      },
      "ms_spell_check": {
        "ms_spell_check_language": "en"
      }
    }
  },
  "nbformat": 4,
  "nbformat_minor": 2
}
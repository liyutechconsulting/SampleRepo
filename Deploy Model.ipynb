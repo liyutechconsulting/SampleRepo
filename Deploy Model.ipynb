{
  "cells": [
    {
      "cell_type": "markdown",
      "source": [
        "# 3 - Deploying the Model\n",
        "\n",
        "The final step in this module will be to deploy that we created in the previous clip and make it available to call via either the SDK or through a REST endpoint.  This will allow us to operationalize this model within our organization."
      ],
      "metadata": {}
    },
    {
      "cell_type": "code",
      "source": [
        "import sys\r\n",
        "sys.path.append(\"../\") # Adds higher directory to python modules path.\r\n",
        "from ModelUtils import common\r\n",
        "from utility import deploy_model"
      ],
      "outputs": [],
      "execution_count": 1,
      "metadata": {
        "jupyter": {
          "source_hidden": false,
          "outputs_hidden": false
        },
        "nteract": {
          "transient": {
            "deleting": false
          }
        },
        "gather": {
          "logged": 1686235428132
        }
      }
    },
    {
      "cell_type": "code",
      "source": [
        " #!az login --use-device-code"
      ],
      "outputs": [],
      "execution_count": 2,
      "metadata": {
        "jupyter": {
          "source_hidden": false,
          "outputs_hidden": false
        },
        "nteract": {
          "transient": {
            "deleting": false
          }
        },
        "gather": {
          "logged": 1686235428840
        }
      }
    },
    {
      "cell_type": "code",
      "source": [
        "# import time\r\n",
        "# time.sleep(15 * 60 * 60)"
      ],
      "outputs": [],
      "execution_count": 3,
      "metadata": {
        "jupyter": {
          "source_hidden": false,
          "outputs_hidden": false
        },
        "nteract": {
          "transient": {
            "deleting": false
          }
        },
        "gather": {
          "logged": 1686235429492
        }
      }
    },
    {
      "cell_type": "code",
      "source": [
        "clientId = common.Client.WV\r\n",
        "deploy_entity_models=True\r\n",
        "deploy_pt=True\r\n",
        "trained_model_name=common.get_model_name(clientId, common.EntityExtractionModel.SPC)\r\n",
        "os.environ[\"MODEL_NAME\"]=trained_model_name\r\n",
        "entity_types = common.get_supported_entities()\r\n",
        "\r\n",
        "models = []\r\n",
        "if deploy_entity_models:\r\n",
        "    for entity_type in entity_types:\r\n",
        "        models.append({\"entity_type\":entity_type, \"version\": None})\r\n",
        "if deploy_pt:\r\n",
        "    models.append({\"entity_type\":common.EntityName.DEF, \"model\": common.EntityExtractionModel.SPCENCWBLG,  \"pretrained\": True, \"version\":None})\r\n",
        "\r\n",
        "service,ws = deploy_model(models, clientId, common.SMIEnvironment.ST, deploy_entity_models=deploy_entity_models, deploy_pt=deploy_pt)"
      ],
      "outputs": [
        {
          "output_type": "stream",
          "name": "stdout",
          "text": "Error: /mnt/batch/tasks/shared/LS_root/mounts/clusters/fitsumcompute2/code/Users/ctr.egrahovac/automation-debit-phase/ModelSPC/tmp/smart-wv-spc_tmp_dir : No such file or directory\nNow deploying model\nDeploying endpoint:  smart-st-wv-spc\nAML MODEL Model(workspace=Workspace.create(name='ML-Smart-DevTest', subscription_id='1183bfd1-16db-4ec7-bb3b-2a5323d99818', resource_group='RG-Smart-ER-USGVA-ML-Dev'), name=smart-wv-spc-qua, id=smart-wv-spc-qua:7, version=7, tags={}, properties={})\nTips: You can try get_logs(): https://aka.ms/debugimage#dockerlog or local deployment: https://aka.ms/debugimage#debug-locally to debug if deployment takes longer than 10 minutes.\nRunning\n2023-06-08 14:44:11+00:00 Creating Container Registry if not exists.\n2023-06-08 14:44:11+00:00 Registering the environment.\n2023-06-08 14:44:11+00:00 Use the existing image.\n2023-06-08 14:44:13+00:00 Checking the status of deployment smart-st-wv-spc..\n2023-06-08 14:45:13+00:00 Checking the status of inference endpoint smart-st-wv-spc.\nSucceeded\nAKS service creation operation finished, operation \"Succeeded\"\nHealthy\n2023-06-08T14:44:46,920856115+00:00 - rsyslog/run \n2023-06-08T14:44:46,922905242+00:00 - iot-server/run \n2023-06-08T14:44:46,924043457+00:00 - gunicorn/run \n2023-06-08T14:44:46,924143158+00:00 - nginx/run \n2023-06-08T14:44:46,926676091+00:00 | gunicorn/run | \n2023-06-08T14:44:46,928795819+00:00 | gunicorn/run | ###############################################\n2023-06-08T14:44:46,931073348+00:00 | gunicorn/run | AzureML Container Runtime Information\n2023-06-08T14:44:46,940344270+00:00 | gunicorn/run | ###############################################\n2023-06-08T14:44:46,943017005+00:00 | gunicorn/run | \n2023-06-08T14:44:46,952143624+00:00 | gunicorn/run | \n2023-06-08T14:44:46,955952374+00:00 | gunicorn/run | AzureML image information: openmpi4.1.0-ubuntu20.04, Materializaton Build:20230412.v4\n2023-06-08T14:44:46,959264317+00:00 | gunicorn/run | \n2023-06-08T14:44:46,961487646+00:00 | gunicorn/run | \n2023-06-08T14:44:46,963614674+00:00 | gunicorn/run | PATH environment variable: /azureml-envs/azureml_8e2895902fb672c6bd5bc2aa6a4dac6e/bin:/opt/miniconda/bin:/usr/local/sbin:/usr/local/bin:/usr/sbin:/usr/bin:/sbin:/bin\n2023-06-08T14:44:46,965822203+00:00 | gunicorn/run | PYTHONPATH environment variable: \n2023-06-08T14:44:46,967822929+00:00 | gunicorn/run | \n2023-06-08T14:44:46,970020158+00:00 | gunicorn/run | Pip Dependencies (before dynamic installation)\n\nEdgeHubConnectionString and IOTEDGE_IOTHUBHOSTNAME are not set. Exiting...\n2023-06-08T14:44:47,016226562+00:00 - iot-server/finish 1 0\n2023-06-08T14:44:47,018178788+00:00 - Exit code 1 is normal. Not restarting iot-server.\nadal==1.2.7\nargcomplete==2.1.2\nattrs==23.1.0\nazure-common==1.1.28\nazure-core==1.27.0\nazure-graphrbac==0.61.1\nazure-identity==1.13.0\nazure-mgmt-authorization==3.0.0\nazure-mgmt-containerregistry==10.1.0\nazure-mgmt-core==1.4.0\nazure-mgmt-keyvault==10.2.2\nazure-mgmt-resource==22.0.0\nazure-mgmt-storage==21.0.0\nazureml-core==1.50.0\nazureml-dataprep==4.10.8\nazureml-dataprep-native==38.0.0\nazureml-dataprep-rslex==2.17.12\nazureml-dataset-runtime==1.50.0\nazureml-defaults==1.50.0\nazureml-inference-server-http==0.8.4\nbackports.tempfile==1.0\nbackports.weakref==1.0.post1\nbcrypt==4.0.1\nblis==0.7.9\ncachetools==5.3.1\ncatalogue==2.0.8\ncertifi==2023.5.7\ncffi==1.15.1\ncharset-normalizer==3.1.0\nclick==8.1.3\ncloudpickle==2.2.1\nconfection==0.0.4\ncontextlib2==21.6.0\ncryptography==40.0.2\ncymem==2.0.7\ndistro==1.8.0\ndocker==6.1.3\ndotnetcore2==3.1.23\net-xmlfile==1.1.0\nFlask==2.2.5\nFlask-Cors==3.0.10\nfusepy==3.0.1\ngoogle-api-core==2.11.0\ngoogle-auth==2.19.1\ngoogleapis-common-protos==1.59.0\ngunicorn==20.1.0\nhumanfriendly==10.0\nidna==3.4\nimportlib-metadata==6.6.0\nimportlib-resources==5.12.0\ninference-schema==1.5.1\nisodate==0.6.1\nitsdangerous==2.1.2\njeepney==0.8.0\nJinja2==3.1.2\njmespath==1.0.1\njoblib==1.0.1\njsonpickle==3.0.1\njsonschema==4.17.3\nknack==0.10.1\nlangcodes==3.3.0\nMarkupSafe==2.1.3\nmsal==1.22.0\nmsal-extensions==1.0.0\nmsrest==0.7.1\nmsrestazure==0.6.4\nmurmurhash==1.0.9\nndg-httpsclient==0.5.1\nnumpy==1.19.5\noauthlib==3.2.2\nopencensus==0.11.2\nopencensus-context==0.1.3\nopencensus-ext-azure==1.1.9\nopenpyxl==3.0.10\npackaging==23.0\npandas==0.25.3\nparamiko==3.2.0\npathspec==0.11.1\npathy==0.10.1\npkginfo==1.9.6\npkgutil_resolve_name==1.3.10\nportalocker==2.7.0\npreshed==3.0.8\nprotobuf==4.23.2\npsutil==5.9.5\npyarrow==9.0.0\npyasn1==0.5.0\npyasn1-modules==0.3.0\npycparser==2.21\npydantic==1.9.2\nPygments==2.15.1\nPyJWT==2.7.0\nPyNaCl==1.5.0\npyOpenSSL==23.2.0\npyrsistent==0.19.3\nPySocks==1.7.1\npython-dateutil==2.8.2\npytz==2023.3\nPyYAML==6.0\nrequests==2.31.0\nrequests-oauthlib==1.3.1\nrsa==4.9\nSecretStorage==3.3.3\nsix==1.16.0\nsmart-open==6.3.0\nspacy==3.4.0\nspacy-legacy==3.0.12\nspacy-loggers==1.0.4\nsrsly==2.4.6\ntabulate==0.9.0\nthinc==8.1.10\ntqdm==4.65.0\ntyper==0.4.2\ntyping_extensions==4.5.0\nurllib3==1.26.16\nwasabi==0.10.1\nwebsocket-client==1.5.2\nWerkzeug==2.3.5\nwrapt==1.12.1\nxlrd==2.0.1\nzipp==3.15.0\n\n2023-06-08T14:44:47,490087561+00:00 | gunicorn/run | \n2023-06-08T14:44:47,492426892+00:00 | gunicorn/run | ###############################################\n2023-06-08T14:44:47,494486619+00:00 | gunicorn/run | AzureML Inference Server\n2023-06-08T14:44:47,496376743+00:00 | gunicorn/run | ###############################################\n2023-06-08T14:44:47,498237368+00:00 | gunicorn/run | \n2023-06-08T14:44:48,511112017+00:00 | gunicorn/run | Starting AzureML Inference Server HTTP.\n2023-06-08 14:44:48,691 I [14] azmlinfsrv - Loaded logging config from /azureml-envs/azureml_8e2895902fb672c6bd5bc2aa6a4dac6e/lib/python3.8/site-packages/azureml_inference_server_http/logging.json\n2023-06-08 14:44:48,772 I [14] gunicorn.error - Starting gunicorn 20.1.0\n2023-06-08 14:44:48,773 I [14] gunicorn.error - Listening at: http://0.0.0.0:31311 (14)\n2023-06-08 14:44:48,773 I [14] gunicorn.error - Using worker: sync\n2023-06-08 14:44:48,776 I [72] gunicorn.error - Booting worker with pid: 72\n\nAzure ML Inferencing HTTP server v0.8.4\n\n\nServer Settings\n---------------\nEntry Script Name: /structure/azureml-app/main.py\nModel Directory: /var/azureml-app/azureml-models\nConfig File: None\nWorker Count: 1\nWorker Timeout (seconds): 300\nServer Port: 31311\nHealth Port: 31311\nApplication Insights Enabled: false\nApplication Insights Key: AppInsights key provided\nInferencing HTTP server version: azmlinfsrv/0.8.4\nCORS for the specified origins: None\nCreate dedicated endpoint for health: None\n\n\nServer Routes\n---------------\n/azureml-envs/azureml_8e2895902fb672c6bd5bc2aa6a4dac6e/lib/python3.8/site-packages/azureml_inference_server_http/server/config.py:51: FutureWarning: aliases are no longer used by BaseSettings to define which environment variables to read. Instead use the \"env\" field setting. See https://pydantic-docs.helpmanual.io/usage/settings/#environment-variable-names\n  class AMLInferenceServerConfig(pydantic.BaseSettings):\nLiveness Probe: GET   127.0.0.1:31311/\nScore:          POST  127.0.0.1:31311/score\n\n2023-06-08 14:44:49,100 I [72] azmlinfsrv - AML_FLASK_ONE_COMPATIBILITY is set. Patched Flask to ensure compatibility with Flask 1.\nInitializing logger\n2023-06-08 14:44:49,102 I [72] azmlinfsrv - Starting up app insights client\n2023-06-08 14:44:49,789 I [72] azmlinfsrv.user_script - Found driver script at /structure/azureml-app/main.py and the score script at /structure/azureml-app/Codebase/score.py\n2023-06-08 14:44:49,789 I [72] azmlinfsrv.user_script - run() is not decorated. Server will invoke it with the input in JSON string.\n2023-06-08 14:44:49,789 I [72] azmlinfsrv.user_script - Invoking user's init function\n2023-06-08 14:44:49,789 I [72] azmlinfsrv.print - Model config: [{'name': 'smart-wv-spc-amt', 'entity_type': 'AMT', 'pretrained': False, 'version': 8, 'model': 'smart-wv-spc'}, {'name': 'smart-wv-spc-ssn', 'entity_type': 'SSN', 'pretrained': False, 'version': 5, 'model': 'smart-wv-spc'}, {'name': 'smart-wv-spc-fn', 'entity_type': 'FN', 'pretrained': False, 'version': 8, 'model': 'smart-wv-spc'}, {'name': 'smart-wv-spc-mn', 'entity_type': 'MN', 'pretrained': False, 'version': 8, 'model': 'smart-wv-spc'}, {'name': 'smart-wv-spc-ln', 'entity_type': 'LN', 'pretrained': False, 'version': 8, 'model': 'smart-wv-spc'}, {'name': 'smart-wv-spc-sec', 'entity_type': 'SEC', 'pretrained': False, 'version': 8, 'model': 'smart-wv-spc'}, {'name': 'smart-wv-spc-qua', 'entity_type': 'QUA', 'pretrained': False, 'version': 7, 'model': 'smart-wv-spc'}]\n2023-06-08 14:44:49,789 I [72] azmlinfsrv.print - model_root_path - ['smart-wv-spc-fn', 'smart-wv-spc-ln', 'smart-wv-spc-sec', 'smart-wv-spc-amt', 'smart-wv-spc-ssn', 'smart-wv-spc-qua', 'smart-wv-spc-mn']\n2023-06-08 14:44:49,789 I [72] azmlinfsrv.print - model_dir_path - ['text_ner_model.zip']\n2023-06-08 14:44:50,180 I [72] azmlinfsrv.print - Loading model dir model_bin_path - ['tok2vec', 'tokenizer', 'tagger', 'attribute_ruler', 'meta.json', 'senter', 'vocab', 'lemmatizer', 'parser', 'config.cfg', 'ner']\n2023-06-08 14:44:51,903 I [72] azmlinfsrv.print - Loaded smart-wv-spc-amt successfully\n2023-06-08 14:44:51,903 I [72] azmlinfsrv.print - model_dir_path - ['text_ner_model.zip']\n2023-06-08 14:44:52,289 I [72] azmlinfsrv.print - Loading model dir model_bin_path - ['tok2vec', 'tokenizer', 'tagger', 'attribute_ruler', 'meta.json', 'senter', 'vocab', 'lemmatizer', 'parser', 'config.cfg', 'ner']\n2023-06-08 14:44:53,860 I [72] azmlinfsrv.print - Loaded smart-wv-spc-ssn successfully\n2023-06-08 14:44:53,860 I [72] azmlinfsrv.print - model_dir_path - ['text_ner_model.zip']\n2023-06-08 14:44:54,248 I [72] azmlinfsrv.print - Loading model dir model_bin_path - ['tok2vec', 'tokenizer', 'tagger', 'attribute_ruler', 'meta.json', 'senter', 'vocab', 'lemmatizer', 'parser', 'config.cfg', 'ner']\n2023-06-08 14:44:55,828 I [72] azmlinfsrv.print - Loaded smart-wv-spc-fn successfully\n2023-06-08 14:44:55,829 I [72] azmlinfsrv.print - model_dir_path - ['text_ner_model.zip']\n2023-06-08 14:44:56,216 I [72] azmlinfsrv.print - Loading model dir model_bin_path - ['tok2vec', 'tokenizer', 'tagger', 'attribute_ruler', 'meta.json', 'senter', 'vocab', 'lemmatizer', 'parser', 'config.cfg', 'ner']\n2023-06-08 14:44:57,794 I [72] azmlinfsrv.print - Loaded smart-wv-spc-mn successfully\n2023-06-08 14:44:57,795 I [72] azmlinfsrv.print - model_dir_path - ['text_ner_model.zip']\n2023-06-08 14:44:58,181 I [72] azmlinfsrv.print - Loading model dir model_bin_path - ['tok2vec', 'tokenizer', 'tagger', 'attribute_ruler', 'meta.json', 'senter', 'vocab', 'lemmatizer', 'parser', 'config.cfg', 'ner']\n2023-06-08 14:44:59,735 I [72] azmlinfsrv.print - Loaded smart-wv-spc-ln successfully\n2023-06-08 14:44:59,735 I [72] azmlinfsrv.print - model_dir_path - ['text_ner_model.zip']\n2023-06-08 14:45:00,136 I [72] azmlinfsrv.print - Loading model dir model_bin_path - ['tok2vec', 'tokenizer', 'tagger', 'attribute_ruler', 'meta.json', 'senter', 'vocab', 'lemmatizer', 'parser', 'config.cfg', 'ner']\n2023-06-08 14:45:01,908 I [72] azmlinfsrv.print - Loaded smart-wv-spc-sec successfully\n2023-06-08 14:45:01,909 I [72] azmlinfsrv.print - model_dir_path - ['text_ner_model.zip']\n2023-06-08 14:45:02,302 I [72] azmlinfsrv.print - Loading model dir model_bin_path - ['tok2vec', 'tokenizer', 'tagger', 'attribute_ruler', 'meta.json', 'senter', 'vocab', 'lemmatizer', 'parser', 'config.cfg', 'ner']\n2023-06-08 14:45:03,918 I [72] azmlinfsrv.print - Loaded smart-wv-spc-qua successfully\n2023-06-08 14:45:03,918 I [72] azmlinfsrv.user_script - Users's init has completed successfully\n2023-06-08 14:45:03,919 I [72] azmlinfsrv.swagger - Swaggers are prepared for the following versions: [2, 3, 3.1].\n2023-06-08 14:45:03,919 I [72] azmlinfsrv - Scoring timeout is set to 300000\n2023-06-08 14:45:03,922 I [72] gunicorn.access - 127.0.0.1 - - [08/Jun/2023:14:45:03 +0000] \"GET / HTTP/1.0\" 200 7 \"-\" \"kube-probe/1.23\"\n2023-06-08 14:45:03,924 I [72] gunicorn.access - 127.0.0.1 - - [08/Jun/2023:14:45:03 +0000] \"GET / HTTP/1.0\" 200 7 \"-\" \"kube-probe/1.23\"\n2023-06-08 14:45:07,047 I [72] gunicorn.access - 127.0.0.1 - - [08/Jun/2023:14:45:07 +0000] \"GET / HTTP/1.0\" 200 7 \"-\" \"kube-probe/1.23\"\n2023-06-08 14:45:12,048 I [72] gunicorn.access - 127.0.0.1 - - [08/Jun/2023:14:45:12 +0000] \"GET / HTTP/1.0\" 200 7 \"-\" \"kube-probe/1.23\"\n2023-06-08 14:45:13,266 I [72] gunicorn.access - 127.0.0.1 - - [08/Jun/2023:14:45:13 +0000] \"GET / HTTP/1.0\" 200 7 \"-\" \"-\"\n2023-06-08 14:45:13,300 I [72] azmlinfsrv - GET /swagger.json 200 0.396ms 2299\n2023-06-08 14:45:13,300 I [72] gunicorn.access - 127.0.0.1 - - [08/Jun/2023:14:45:13 +0000] \"GET /swagger.json HTTP/1.0\" 200 2299 \"-\" \"-\"\n2023-06-08 14:45:16,428 I [72] gunicorn.access - 127.0.0.1 - - [08/Jun/2023:14:45:16 +0000] \"GET / HTTP/1.0\" 200 7 \"-\" \"-\"\n2023-06-08 14:45:16,467 I [72] azmlinfsrv - GET /swagger.json 200 0.331ms 2299\n2023-06-08 14:45:16,468 I [72] gunicorn.access - 127.0.0.1 - - [08/Jun/2023:14:45:16 +0000] \"GET /swagger.json HTTP/1.0\" 200 2299 \"-\" \"-\"\n2023-06-08 14:45:17,048 I [72] gunicorn.access - 127.0.0.1 - - [08/Jun/2023:14:45:17 +0000] \"GET / HTTP/1.0\" 200 7 \"-\" \"kube-probe/1.23\"\n\ndeployment finished\n{'name': 'smart-spcencwblg', 'entity_type': <EntityName.DEF: 'DEF'>, 'pretrained': True, 'version': 2, 'model': <EntityExtractionModel.SPCENCWBLG: 'SPCENCWBLG'>}\nError: /mnt/batch/tasks/shared/LS_root/mounts/clusters/fitsumcompute2/code/Users/ctr.egrahovac/automation-debit-phase/ModelSPC/tmp/smart-spcencwblg_tmp_dir : No such file or directory\nNow deploying model\nDeploying endpoint:  smart-st-spcencwblg\nAML MODEL Model(workspace=Workspace.create(name='ML-Smart-DevTest', subscription_id='1183bfd1-16db-4ec7-bb3b-2a5323d99818', resource_group='RG-Smart-ER-USGVA-ML-Dev'), name=smart-spcencwblg, id=smart-spcencwblg:2, version=2, tags={}, properties={})\nTips: You can try get_logs(): https://aka.ms/debugimage#dockerlog or local deployment: https://aka.ms/debugimage#debug-locally to debug if deployment takes longer than 10 minutes.\nRunning\n2023-06-08 14:45:34+00:00 Creating Container Registry if not exists.\n2023-06-08 14:45:34+00:00 Registering the environment.\n2023-06-08 14:45:35+00:00 Use the existing image.\n2023-06-08 14:45:36+00:00 Checking the status of deployment smart-st-spcencwblg..\n2023-06-08 14:49:25+00:00 Checking the status of inference endpoint smart-st-spcencwblg.\nSucceeded\nAKS service creation operation finished, operation \"Succeeded\"\nHealthy\n2023-06-08T14:49:09,669970397+00:00 - rsyslog/run \n2023-06-08T14:49:09,671666220+00:00 - iot-server/run \n2023-06-08T14:49:09,671883823+00:00 - nginx/run \n2023-06-08T14:49:09,674720662+00:00 - gunicorn/run \n2023-06-08T14:49:09,676451986+00:00 | gunicorn/run | \n2023-06-08T14:49:09,678180310+00:00 | gunicorn/run | ###############################################\n2023-06-08T14:49:09,683527883+00:00 | gunicorn/run | AzureML Container Runtime Information\n2023-06-08T14:49:09,685354408+00:00 | gunicorn/run | ###############################################\n2023-06-08T14:49:09,687447237+00:00 | gunicorn/run | \n2023-06-08T14:49:09,691598194+00:00 | gunicorn/run | \n2023-06-08T14:49:09,694777938+00:00 | gunicorn/run | AzureML image information: openmpi4.1.0-ubuntu20.04, Materializaton Build:20230412.v4\n2023-06-08T14:49:09,697271372+00:00 | gunicorn/run | \n2023-06-08T14:49:09,698734092+00:00 | gunicorn/run | \n2023-06-08T14:49:09,701409429+00:00 | gunicorn/run | PATH environment variable: /azureml-envs/azureml_8e2895902fb672c6bd5bc2aa6a4dac6e/bin:/opt/miniconda/bin:/usr/local/sbin:/usr/local/bin:/usr/sbin:/usr/bin:/sbin:/bin\n2023-06-08T14:49:09,703118652+00:00 | gunicorn/run | PYTHONPATH environment variable: \n2023-06-08T14:49:09,707469212+00:00 | gunicorn/run | \n2023-06-08T14:49:09,710669056+00:00 | gunicorn/run | Pip Dependencies (before dynamic installation)\n\nEdgeHubConnectionString and IOTEDGE_IOTHUBHOSTNAME are not set. Exiting...\n2023-06-08T14:49:09,762168064+00:00 - iot-server/finish 1 0\n2023-06-08T14:49:09,763755186+00:00 - Exit code 1 is normal. Not restarting iot-server.\nadal==1.2.7\nargcomplete==2.1.2\nattrs==23.1.0\nazure-common==1.1.28\nazure-core==1.27.0\nazure-graphrbac==0.61.1\nazure-identity==1.13.0\nazure-mgmt-authorization==3.0.0\nazure-mgmt-containerregistry==10.1.0\nazure-mgmt-core==1.4.0\nazure-mgmt-keyvault==10.2.2\nazure-mgmt-resource==22.0.0\nazure-mgmt-storage==21.0.0\nazureml-core==1.50.0\nazureml-dataprep==4.10.8\nazureml-dataprep-native==38.0.0\nazureml-dataprep-rslex==2.17.12\nazureml-dataset-runtime==1.50.0\nazureml-defaults==1.50.0\nazureml-inference-server-http==0.8.4\nbackports.tempfile==1.0\nbackports.weakref==1.0.post1\nbcrypt==4.0.1\nblis==0.7.9\ncachetools==5.3.1\ncatalogue==2.0.8\ncertifi==2023.5.7\ncffi==1.15.1\ncharset-normalizer==3.1.0\nclick==8.1.3\ncloudpickle==2.2.1\nconfection==0.0.4\ncontextlib2==21.6.0\ncryptography==40.0.2\ncymem==2.0.7\ndistro==1.8.0\ndocker==6.1.3\ndotnetcore2==3.1.23\net-xmlfile==1.1.0\nFlask==2.2.5\nFlask-Cors==3.0.10\nfusepy==3.0.1\ngoogle-api-core==2.11.0\ngoogle-auth==2.19.1\ngoogleapis-common-protos==1.59.0\ngunicorn==20.1.0\nhumanfriendly==10.0\nidna==3.4\nimportlib-metadata==6.6.0\nimportlib-resources==5.12.0\ninference-schema==1.5.1\nisodate==0.6.1\nitsdangerous==2.1.2\njeepney==0.8.0\nJinja2==3.1.2\njmespath==1.0.1\njoblib==1.0.1\njsonpickle==3.0.1\njsonschema==4.17.3\nknack==0.10.1\nlangcodes==3.3.0\nMarkupSafe==2.1.3\nmsal==1.22.0\nmsal-extensions==1.0.0\nmsrest==0.7.1\nmsrestazure==0.6.4\nmurmurhash==1.0.9\nndg-httpsclient==0.5.1\nnumpy==1.19.5\noauthlib==3.2.2\nopencensus==0.11.2\nopencensus-context==0.1.3\nopencensus-ext-azure==1.1.9\nopenpyxl==3.0.10\npackaging==23.0\npandas==0.25.3\nparamiko==3.2.0\npathspec==0.11.1\npathy==0.10.1\npkginfo==1.9.6\npkgutil_resolve_name==1.3.10\nportalocker==2.7.0\npreshed==3.0.8\nprotobuf==4.23.2\npsutil==5.9.5\npyarrow==9.0.0\npyasn1==0.5.0\npyasn1-modules==0.3.0\npycparser==2.21\npydantic==1.9.2\nPygments==2.15.1\nPyJWT==2.7.0\nPyNaCl==1.5.0\npyOpenSSL==23.2.0\npyrsistent==0.19.3\nPySocks==1.7.1\npython-dateutil==2.8.2\npytz==2023.3\nPyYAML==6.0\nrequests==2.31.0\nrequests-oauthlib==1.3.1\nrsa==4.9\nSecretStorage==3.3.3\nsix==1.16.0\nsmart-open==6.3.0\nspacy==3.4.0\nspacy-legacy==3.0.12\nspacy-loggers==1.0.4\nsrsly==2.4.6\ntabulate==0.9.0\nthinc==8.1.10\ntqdm==4.65.0\ntyper==0.4.2\ntyping_extensions==4.5.0\nurllib3==1.26.16\nwasabi==0.10.1\nwebsocket-client==1.5.2\nWerkzeug==2.3.5\nwrapt==1.12.1\nxlrd==2.0.1\nzipp==3.15.0\n\n2023-06-08T14:49:10,257602975+00:00 | gunicorn/run | \n2023-06-08T14:49:10,259406199+00:00 | gunicorn/run | ###############################################\n2023-06-08T14:49:10,261080522+00:00 | gunicorn/run | AzureML Inference Server\n2023-06-08T14:49:10,262992449+00:00 | gunicorn/run | ###############################################\n2023-06-08T14:49:10,264620571+00:00 | gunicorn/run | \n2023-06-08T14:49:11,361166245+00:00 | gunicorn/run | Starting AzureML Inference Server HTTP.\n2023-06-08 14:49:11,528 I [14] azmlinfsrv - Loaded logging config from /azureml-envs/azureml_8e2895902fb672c6bd5bc2aa6a4dac6e/lib/python3.8/site-packages/azureml_inference_server_http/logging.json\n2023-06-08 14:49:11,604 I [14] gunicorn.error - Starting gunicorn 20.1.0\n2023-06-08 14:49:11,604 I [14] gunicorn.error - Listening at: http://0.0.0.0:31311 (14)\n2023-06-08 14:49:11,604 I [14] gunicorn.error - Using worker: sync\n2023-06-08 14:49:11,607 I [71] gunicorn.error - Booting worker with pid: 71\n\nAzure ML Inferencing HTTP server v0.8.4\n\n\nServer Settings\n---------------\nEntry Script Name: /structure/azureml-app/main.py\nModel Directory: /var/azureml-app/azureml-models/smart-spcencwblg/2\nConfig File: None\nWorker Count: 1\nWorker Timeout (seconds): 300\nServer Port: 31311\nHealth Port: 31311\nApplication Insights Enabled: false\nApplication Insights Key: AppInsights key provided\nInferencing HTTP server version: azmlinfsrv/0.8.4\nCORS for the specified origins: None\nCreate dedicated endpoint for health: None\n\n\nServer Routes\n---------------\nLiveness Probe: GET   127.0.0.1:31311/\nScore:          POST  127.0.0.1:31311/score\n\n/azureml-envs/azureml_8e2895902fb672c6bd5bc2aa6a4dac6e/lib/python3.8/site-packages/azureml_inference_server_http/server/config.py:51: FutureWarning: aliases are no longer used by BaseSettings to define which environment variables to read. Instead use the \"env\" field setting. See https://pydantic-docs.helpmanual.io/usage/settings/#environment-variable-names\n  class AMLInferenceServerConfig(pydantic.BaseSettings):\n2023-06-08 14:49:11,896 I [71] azmlinfsrv - AML_FLASK_ONE_COMPATIBILITY is set. Patched Flask to ensure compatibility with Flask 1.\nInitializing logger\n2023-06-08 14:49:11,897 I [71] azmlinfsrv - Starting up app insights client\n2023-06-08 14:49:12,540 I [71] azmlinfsrv.user_script - Found driver script at /structure/azureml-app/main.py and the score script at /structure/azureml-app/Codebase/score.py\n2023-06-08 14:49:12,540 I [71] azmlinfsrv.user_script - run() is not decorated. Server will invoke it with the input in JSON string.\n2023-06-08 14:49:12,540 I [71] azmlinfsrv.user_script - Invoking user's init function\n2023-06-08 14:49:12,540 I [71] azmlinfsrv.print - Model config: [{'name': 'smart-spcencwblg', 'entity_type': 'DEF', 'pretrained': True, 'version': 2, 'model': 'SPCENCWBLG'}]\n2023-06-08 14:49:12,540 I [71] azmlinfsrv.print - model_root_path - ['text_ner_model.zip']\n2023-06-08 14:49:12,540 I [71] azmlinfsrv.print - model_dir_path - ['text_ner_model.zip']\n2023-06-08 14:49:15,711 I [71] azmlinfsrv.print - Loading model dir model_bin_path - ['tok2vec', 'tokenizer', 'tagger', 'attribute_ruler', 'meta.json', 'senter', 'vocab', 'lemmatizer', 'parser', 'config.cfg', 'ner']\n2023-06-08 14:49:17,531 I [71] azmlinfsrv.print - Loaded smart-spcencwblg successfully\n2023-06-08 14:49:17,531 I [71] azmlinfsrv.user_script - Users's init has completed successfully\n2023-06-08 14:49:17,531 I [71] azmlinfsrv.swagger - Swaggers are prepared for the following versions: [2, 3, 3.1].\n2023-06-08 14:49:17,531 I [71] azmlinfsrv - Scoring timeout is set to 300000\n2023-06-08 14:49:17,535 I [71] gunicorn.access - 127.0.0.1 - - [08/Jun/2023:14:49:17 +0000] \"GET / HTTP/1.0\" 200 7 \"-\" \"kube-probe/1.23\"\n2023-06-08 14:49:17,536 I [71] gunicorn.access - 127.0.0.1 - - [08/Jun/2023:14:49:17 +0000] \"GET / HTTP/1.0\" 200 7 \"-\" \"kube-probe/1.23\"\n2023-06-08 14:49:22,481 I [71] gunicorn.access - 127.0.0.1 - - [08/Jun/2023:14:49:22 +0000] \"GET / HTTP/1.0\" 200 7 \"-\" \"kube-probe/1.23\"\n2023-06-08 14:49:26,013 I [71] gunicorn.access - 127.0.0.1 - - [08/Jun/2023:14:49:26 +0000] \"GET / HTTP/1.0\" 200 7 \"-\" \"-\"\n2023-06-08 14:49:26,052 I [71] azmlinfsrv - GET /swagger.json 200 0.278ms 2319\n2023-06-08 14:49:26,053 I [71] gunicorn.access - 127.0.0.1 - - [08/Jun/2023:14:49:26 +0000] \"GET /swagger.json HTTP/1.0\" 200 2319 \"-\" \"-\"\n2023-06-08 14:49:27,481 I [71] gunicorn.access - 127.0.0.1 - - [08/Jun/2023:14:49:27 +0000] \"GET / HTTP/1.0\" 200 7 \"-\" \"kube-probe/1.23\"\n2023-06-08 14:49:28,693 I [71] gunicorn.access - 127.0.0.1 - - [08/Jun/2023:14:49:28 +0000] \"GET / HTTP/1.0\" 200 7 \"-\" \"-\"\n2023-06-08 14:49:28,731 I [71] azmlinfsrv - GET /swagger.json 200 0.270ms 2319\n2023-06-08 14:49:28,731 I [71] gunicorn.access - 127.0.0.1 - - [08/Jun/2023:14:49:28 +0000] \"GET /swagger.json HTTP/1.0\" 200 2319 \"-\" \"-\"\n\ndeployment finished\n"
        },
        {
          "output_type": "stream",
          "name": "stderr",
          "text": "Property environment_variables is deprecated. Use RunConfiguration.environment_variables to set runtime variables.\nBuilding a non-registered environment is not supported. Registering environment.\n/mnt/batch/tasks/shared/LS_root/mounts/clusters/fitsumcompute2/code/Users/ctr.egrahovac/automation-debit-phase/ModelSPC/../ModelUtils/aml_helper.py:232: FutureWarning: azureml.core.model:\nTo leverage new model deployment capabilities, AzureML recommends using CLI/SDK v2 to deploy models as online endpoint, \nplease refer to respective documentations \nhttps://docs.microsoft.com/azure/machine-learning/how-to-deploy-managed-online-endpoints /\nhttps://docs.microsoft.com/azure/machine-learning/how-to-attach-kubernetes-anywhere \nFor more information on migration, see https://aka.ms/acimoemigration \nTo disable CLI/SDK v1 deprecation warning set AZUREML_LOG_DEPRECATION_WARNING_ENABLED to 'False'\n  service = Model.deploy(workspace=ws,\nProperty environment_variables is deprecated. Use RunConfiguration.environment_variables to set runtime variables.\nBuilding a non-registered environment is not supported. Registering environment.\n/mnt/batch/tasks/shared/LS_root/mounts/clusters/fitsumcompute2/code/Users/ctr.egrahovac/automation-debit-phase/ModelSPC/../ModelUtils/aml_helper.py:232: FutureWarning: azureml.core.model:\nTo leverage new model deployment capabilities, AzureML recommends using CLI/SDK v2 to deploy models as online endpoint, \nplease refer to respective documentations \nhttps://docs.microsoft.com/azure/machine-learning/how-to-deploy-managed-online-endpoints /\nhttps://docs.microsoft.com/azure/machine-learning/how-to-attach-kubernetes-anywhere \nFor more information on migration, see https://aka.ms/acimoemigration \nTo disable CLI/SDK v1 deprecation warning set AZUREML_LOG_DEPRECATION_WARNING_ENABLED to 'False'\n  service = Model.deploy(workspace=ws,\n"
        }
      ],
      "execution_count": 4,
      "metadata": {
        "jupyter": {
          "source_hidden": false,
          "outputs_hidden": false
        },
        "nteract": {
          "transient": {
            "deleting": false
          }
        },
        "gather": {
          "logged": 1686235772355
        }
      }
    },
    {
      "cell_type": "markdown",
      "source": [
        "We can get the URL:"
      ],
      "metadata": {}
    },
    {
      "cell_type": "code",
      "source": [
        "print(service.scoring_uri)"
      ],
      "outputs": [
        {
          "output_type": "stream",
          "name": "stdout",
          "text": "https://aks-ml-devtests7hfff.usgovvirginia.cloudapp.usgovcloudapi.net:443/api/v1/service/smart-st-spcencwblg/score\n"
        }
      ],
      "execution_count": 5,
      "metadata": {
        "gather": {
          "logged": 1686235772885
        }
      }
    }
  ],
  "metadata": {
    "kernelspec": {
      "name": "python38-azureml",
      "language": "python",
      "display_name": "Python 3.8 - AzureML"
    },
    "language_info": {
      "name": "python",
      "version": "3.8.10",
      "mimetype": "text/x-python",
      "codemirror_mode": {
        "name": "ipython",
        "version": 3
      },
      "pygments_lexer": "ipython3",
      "nbconvert_exporter": "python",
      "file_extension": ".py"
    },
    "kernel_info": {
      "name": "python38-azureml"
    },
    "nteract": {
      "version": "nteract-front-end@1.0.0"
    },
    "microsoft": {
      "host": {
        "AzureML": {
          "notebookHasBeenCompleted": true
        }
      },
      "ms_spell_check": {
        "ms_spell_check_language": "en"
      }
    }
  },
  "nbformat": 4,
  "nbformat_minor": 2
}